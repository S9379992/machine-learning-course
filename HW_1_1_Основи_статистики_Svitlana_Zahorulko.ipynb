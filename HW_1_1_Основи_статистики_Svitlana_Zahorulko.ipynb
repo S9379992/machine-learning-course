{
 "cells": [
  {
   "cell_type": "markdown",
   "metadata": {
    "id": "SDhaTqxcWhnP"
   },
   "source": [
    "В цьому домашньому завданні відпрацюємо з вами знання, отримані в модулі зі статистики.\n",
    "\n",
    "**Завдання 1.** Ми обговорили з Вами на лекції, що велика літера Сігма грецького алфавіту позначає в математиці суму. Знайдіть з використанням Python $\\Sigma x$, $\\Sigma x^2$, та $\\Sigma (x-1)^2$ для наступного набору даних:\n",
    "`1 3 4`\n",
    "Виведіть результат кожного обчислення на екран."
   ]
  },
  {
   "cell_type": "code",
   "execution_count": 18,
   "metadata": {
    "id": "B1mgx_IBT0e8"
   },
   "outputs": [
    {
     "name": "stdout",
     "output_type": "stream",
     "text": [
      "8\n",
      "26\n",
      "13\n"
     ]
    }
   ],
   "source": [
    "my_dataset = [1,3,4]\n",
    "sum_x = sum(my_dataset)\n",
    "print(sum_x); \n",
    "\n",
    "sum_x_squared = sum(x**2 for x in my_dataset);\n",
    "print(sum_x_squared);\n",
    "\n",
    "sum_x_minus_one_squared = sum((x - 1)**2 for x in my_dataset);\n",
    "print(sum_x_minus_one_squared);\n"
   ]
  },
  {
   "cell_type": "markdown",
   "metadata": {
    "id": "fa78aW5lhiia"
   },
   "source": [
    "**Завдання 2.** Ми зібрали дані про суму покупок в гривнях 20ма випадково обраними клієнтами в нашому магазині (всього клієнтів у нас більше) за минулий місяць. Вони представлені в змінній `sum_purchases`. Знайдіть **вибіркове середнє** для цих даних кожним з зазначених методів:   \n",
    "\n",
    "  2.1. без використання жодних бібліотек, користуючись тільки Python.  \n",
    "  2.2. використовуючи відповідний метод бібліотеки `numpy`.\n",
    "\n",
    "  Виведіть результат обчислень в кожному з випадків на екран та порівняйте результати. Вони співпадають?"
   ]
  },
  {
   "cell_type": "code",
   "execution_count": null,
   "metadata": {
    "id": "_9kMt3rq6V5m"
   },
   "outputs": [],
   "source": [
    "sum_purchases = [ 316,  493,  367,  153,  224,  121,  322,  450,  196,  397,  281,\n",
    "  239,  484,  124,  223,  448,  432,  255, 4310, 3524]"
   ]
  },
  {
   "cell_type": "code",
   "execution_count": 30,
   "metadata": {
    "id": "wPmL919HT1c0"
   },
   "outputs": [
    {
     "name": "stdout",
     "output_type": "stream",
     "text": [
      "20\n",
      "667.95\n",
      "667.95\n"
     ]
    }
   ],
   "source": [
    "sum_purchases = [ 316,  493,  367,  153,  224,  121,  322,  450,  196,  397,  281,\n",
    "  239,  484,  124,  223,  448,  432,  255, 4310, 3524]\n",
    "length_sum_purchanses = len(sum_purchases); \n",
    "print(length_sum_purchanses);\n",
    "mean_sum_purchanses = sum(sum_purchases)/length_sum_purchanses; \n",
    "print(mean_sum_purchanses);\n",
    "\n",
    "\n",
    "import numpy as np; \n",
    "mean_sum_purchanses_with_numpy = np.mean(sum_purchases);\n",
    "print(mean_sum_purchanses_with_numpy);"
   ]
  },
  {
   "cell_type": "markdown",
   "metadata": {
    "id": "FMdoxZd0kZdW"
   },
   "source": [
    "**Завдання 3.** Для того ж набору даних в змінній `sum_purchases` обчисліть **медіану** кожним з зазначених методів:  \n",
    "\n",
    "  3.1. без використання жодних бібліотек, користуючись тільки Python.  \n",
    "  3.2. використовуючи відповідний метод бібліотеки numpy.  \n",
    "\n",
    "Виведіть результат обчислень в кожному з випадків на екран. Порівняйте результати зі значенням вибіркового середнього. Напишіть коментар, для яких задач ви б використовували вибіркове середнє, а для яких - медіану?"
   ]
  },
  {
   "cell_type": "code",
   "execution_count": 62,
   "metadata": {
    "id": "x58BumvuT2nl"
   },
   "outputs": [
    {
     "name": "stdout",
     "output_type": "stream",
     "text": [
      "[121, 124, 153, 196, 223, 224, 239, 255, 281, 316, 322, 367, 397, 432, 448, 450, 484, 493, 3524, 4310]\n",
      "20\n",
      "319.0\n",
      "319.0\n"
     ]
    }
   ],
   "source": [
    "sum_purchases = [ 316,  493,  367,  153,  224,  121,  322,  450,  196,  397,  281,\n",
    "  239,  484,  124,  223,  448,  432,  255, 4310, 3524]\n",
    "\n",
    "sorted_purchases = sorted(sum_purchases)\n",
    "print(sorted_purchases); \n",
    "\n",
    "sorted_purchases_length = len(sorted_purchases);\n",
    "print(sorted_purchases_length);\n",
    "mid1 = sorted_purchases[(sorted_purchases_length // 2) - 1]\n",
    "mid2 = sorted_purchases[sorted_purchases_length // 2]\n",
    "median = (mid1 + mid2) / 2\n",
    "print(median);\n",
    "\n",
    "median_with_numpy = np.median(sum_purchases);\n",
    "print(median_with_numpy);"
   ]
  },
  {
   "cell_type": "markdown",
   "metadata": {
    "id": "o1Z7az2yNDQV"
   },
   "source": [
    "**Завдання 4**. Обчислість стандартне відхилення наведеної вибірки в змінній `sum_purchases` кожним з зазначених методів:  \n",
    "\n",
    "  4.1. без використання жодних бібліотек, користуючись тільки Python.  \n",
    "  4.2. використовуючи відповідний метод бібліотеки numpy.  \n",
    "\n",
    "Виведіть результат обчислень в кожному з випадків на екран."
   ]
  },
  {
   "cell_type": "code",
   "execution_count": 72,
   "metadata": {
    "id": "X4ixtmL2T642"
   },
   "outputs": [
    {
     "name": "stdout",
     "output_type": "stream",
     "text": [
      "[123868.80250000003, 30607.502500000017, 90570.90250000003, 265173.50250000006, 197091.60250000004, 299154.30250000005, 119681.40250000003, 47502.20250000002, 222736.80250000005, 73413.90250000003, 149730.30250000005, 183998.10250000004, 33837.602500000015, 295881.60250000004, 197980.50250000003, 48378.00250000002, 55672.40250000002, 170527.70250000004, 13264528.2025, 8157021.602500001]\n",
      "1201367.8475000001\n",
      "1201367.8475000001\n"
     ]
    }
   ],
   "source": [
    "sum_purchases = [ 316,  493,  367,  153,  224,  121,  322,  450,  196,  397,  281,\n",
    "  239,  484,  124,  223,  448,  432,  255, 4310, 3524]\n",
    "mean_sum_purchanses = sum(sum_purchases)/len(sum_purchases); \n",
    "\n",
    "\n",
    "el_minus_mean = [(el -  mean_sum_purchanses) ** 2 for el in sum_purchases];\n",
    "print(el_minus_mean); \n",
    "var_gen_sum_purchases = sum(el_minus_mean)/len(sum_purchases); \n",
    "print(var_gen_sum_purchases);\n",
    "\n",
    "\n",
    "var_gen_sum_purchases_with_numpy = np.var(sum_purchases,ddof = 1);\n",
    "print(var_gen_sum_purchases_with_numpy);"
   ]
  },
  {
   "cell_type": "markdown",
   "metadata": {
    "id": "M1ntKTjXLVlH"
   },
   "source": [
    "**Завдання 5**. Ми провели дослідження віку студентів-першокурсників. Виявилось, що\n",
    "- 10 студентів мають вік 16 років\n",
    "- 25 студентів - 17 років\n",
    "- 20 студентів - 18 років\n",
    "- 2 студенти - 20 років\n",
    "\n",
    "Обчислість середнє значення для цієї вибірки будь-яким способом - на чистому Python або з numpy - та виведіть результат на екран."
   ]
  },
  {
   "cell_type": "code",
   "execution_count": 104,
   "metadata": {
    "id": "RdIU4M-7T8R4"
   },
   "outputs": [
    {
     "name": "stdout",
     "output_type": "stream",
     "text": [
      "-8.916666666666666\n",
      "-8.916666666666666\n"
     ]
    }
   ],
   "source": [
    "number_of_students = [10, 25, 20, 2];\n",
    "age_of_students = [16,17,18,20];\n",
    "\n",
    "mean_number_of_students = sum(number_of_students)/len(number_of_students); \n",
    "mean_age_of_students = sum(age_of_students)/len(age_of_students);\n",
    "cov_components = [\n",
    "    (number_of_students[i] - mean_number_of_students) * (age_of_students[i] - mean_age_of_students)\n",
    "    for i in range(len(number_of_students))\n",
    "]\n",
    "cov_manual = sum(cov_components) / (len(number_of_students) - 1)\n",
    "print(cov_manual);\n",
    "\n",
    "\n",
    "cov_with_numpy = np.cov(number_of_students,age_of_students)\n",
    "print(cov_with_numpy[0, 1])"
   ]
  },
  {
   "cell_type": "markdown",
   "metadata": {
    "id": "Xx8MFkkVM53z"
   },
   "source": [
    "**Завдання 6**. Крім даних про суму покупок, ми зібрали ще дані про кількість відвідувань кожного з кожного покупця, які знаходяться в змінній `visits`. Обчисліть коефіцієнт кореляції Пірсона для суми покупок і кількості відвідувань кожним з зазначених методів:  \n",
    "\n",
    "  6.1. без використання жодних бібліотек, користуючись тільки Python.  \n",
    "  6.2. використовуючи відповідний метод бібліотеки numpy.  \n",
    "  \n",
    "Виведіть результат на екран. Проаналізуйте результат.\n",
    "\n",
    "Виведіть додатково графік розсіювання викликавши код нижче і зробіть заключення, чи варто щось змінити при підрахунку кореляції, аби коефіцієнт Пірсона показував коректну оцінку лінійної залежності?"
   ]
  },
  {
   "cell_type": "code",
   "execution_count": 108,
   "metadata": {
    "id": "4OIGBT7UOWhO"
   },
   "outputs": [
    {
     "name": "stdout",
     "output_type": "stream",
     "text": [
      "-0.30265844687666454\n",
      "[[ 1.         -0.30265845]\n",
      " [-0.30265845  1.        ]]\n"
     ]
    }
   ],
   "source": [
    "sum_purchases = [ 316,  493,  367,  153,  224,  121,  322,  450,  196,  397,  281,\n",
    "  239,  484,  124,  223,  448,  432,  255, 4310, 3524]\n",
    "visits = [ 6,  2, 10,  3,  9,  9,  2,  3,  6,  6, 10,  2,  5, 10,  3,  5,  4,\n",
    "        7,  4,  2]\n",
    "mean_sum_purchases = sum(sum_purchases) / len(sum_purchases)\n",
    "mean_visits = sum(visits) / len(visits)\n",
    "cov_components = [\n",
    "    (sum_purchases[i] - mean_sum_purchases) * (visits[i] - mean_visits)\n",
    "    for i in range(len(sum_purchases))\n",
    "]\n",
    "cov_manual = sum(cov_components) / (len(sum_purchases) - 1)\n",
    "std_sum_purchases_components = [\n",
    "    (x - mean_sum_purchases) ** 2 for x in sum_purchases\n",
    "]\n",
    "std_sum_purchases = (sum(std_sum_purchases_components) / (len(sum_purchases) - 1)) ** 0.5\n",
    "\n",
    "std_visits_components = [\n",
    "    (x - mean_visits) ** 2 for x in visits\n",
    "]\n",
    "std_visits = (sum(std_visits_components) / (len(visits) - 1)) ** 0.5\n",
    "\n",
    "# Pearson correlation coefficient\n",
    "pearson_correlation = cov_manual / (std_sum_purchases * std_visits)\n",
    "print(pearson_correlation);\n",
    "\n",
    "pearson_correlation_with_numpy = np.corrcoef(sum_purchases,visits); \n",
    "print(pearson_correlation_with_numpy);\n",
    "\n"
   ]
  },
  {
   "cell_type": "markdown",
   "metadata": {
    "id": "YLNF7VbeT97Q"
   },
   "source": [
    "У масиві sum_purchases є два надто великі значення (4310 4310 та 3524 3524), які значно відрізняються від решти даних. Ці дані можуть викривляти середнє значення, коваріацію та стандартне відхилення, тим самим знижуючи точність оцінки коефіцієнта Пірсона.\n",
    "Розмір вибірки (20 спостережень) є досить невеликим для точного оцінювання залежності. Це може призводити до нестабільності коефіцієнта кореляції.\n",
    "Я б спробувала побудувати графік розсіювання щоб візуально перевірити, чи є звязок між змінними лінійнимию"
   ]
  },
  {
   "cell_type": "code",
   "execution_count": 114,
   "metadata": {
    "colab": {
     "base_uri": "https://localhost:8080/",
     "height": 472
    },
    "id": "gaeoGA-5Prr1",
    "outputId": "0c910a7f-0e96-449a-881d-1efa453b3c8d"
   },
   "outputs": [
    {
     "data": {
      "image/png": "[encoded data removed]",
      "text/plain": [
       "<Figure size 640x480 with 1 Axes>"
      ]
     },
     "metadata": {},
     "output_type": "display_data"
    }
   ],
   "source": [
    "import matplotlib.pyplot as plt\n",
    "\n",
    "sum_purchases = [ 316,  493,  367,  153,  224,  121,  322,  450,  196,  397,  281,\n",
    "  239,  484,  124,  223,  448,  432,  255, 4310, 3524]\n",
    "visits = [ 6,  2, 10,  3,  9,  9,  2,  3,  6,  6, 10,  2,  5, 10,  3,  5,  4,\n",
    "        7,  4,  2]\n",
    "\n",
    "plt.scatter(sum_purchases, visits)\n",
    "plt.title('Scatter Plot of Purchases vs. Visits')\n",
    "plt.xlabel('Sum of Purchases')\n",
    "plt.ylabel('Number of Visits');\n",
    "\n"
   ]
  },
  {
   "cell_type": "markdown",
   "metadata": {
    "id": "4pEg0KzSQ6KA"
   },
   "source": [
    "**Завдання 7**. В попередньому завданні ми помітили, що викиди нам заважають отримати \"правдиве\" значення кореляції. Давайте вилучимо записи, які відповідають значенням з викидами в сумі покупок і обчисліть коеф. кореляції. Для цього поставте `threshold`, який дорінює середньому значенню + 2 стандартних вдіхилля суми покупок і всі значення, які більше за нього, будемо вважати викидами (є і інші правила для визначення викидів - з ним и познайомимось пізніше).\n",
    "\n",
    "Вилучіть значення з обох масивів і обчисліть коеф. кореляції Пірсона з допомогою `numpy` для кількості візитів і суми покупок без записів-викидів. Виведіть результат на екран, побудуйте діаграму розсіювання і проаналізуйте результат: що можемо сказати про залежність в даних?"
   ]
  },
  {
   "cell_type": "code",
   "execution_count": 116,
   "metadata": {
    "id": "Yj3Yfaf7UBbc"
   },
   "outputs": [
    {
     "name": "stdout",
     "output_type": "stream",
     "text": [
      "Середнє значення суми покупок: 667.95\n",
      "Стандартне відхилення суми покупок: 1124.5433447451132\n",
      "Поріг для викидів: 2917.0366894902263\n",
      "Коефіцієнт кореляції Пірсона (без викидів): -0.3685212078127798\n"
     ]
    },
    {
     "data": {
      "image/png": "[encoded data removed]",
      "text/plain": [
       "<Figure size 640x480 with 1 Axes>"
      ]
     },
     "metadata": {},
     "output_type": "display_data"
    }
   ],
   "source": [
    "import numpy as np\n",
    "import matplotlib.pyplot as plt\n",
    "sum_purchases = [316, 493, 367, 153, 224, 121, 322, 450, 196, 397, 281,\n",
    "                 239, 484, 124, 223, 448, 432, 255, 4310, 3524]\n",
    "visits = [6, 2, 10, 3, 9, 9, 2, 3, 6, 6, 10, 2, 5, 10, 3, 5, 4, 7, 4, 2]\n",
    "\n",
    "mean_sum_purchases = np.mean(sum_purchases)\n",
    "std_sum_purchases = np.std(sum_purchases, ddof=1)\n",
    "\n",
    "threshold = mean_sum_purchases + 2 * std_sum_purchases\n",
    "filtered_sum_purchases = []\n",
    "filtered_visits = []\n",
    "\n",
    "for i in range(len(sum_purchases)):\n",
    "    if sum_purchases[i] <= threshold: \n",
    "        filtered_sum_purchases.append(sum_purchases[i])\n",
    "        filtered_visits.append(visits[i])\n",
    "pearson_corr = np.corrcoef(filtered_sum_purchases, filtered_visits)[0, 1]\n",
    "\n",
    "\n",
    "print(mean_sum_purchases)\n",
    "print(std_sum_purchases)\n",
    "print(threshold)\n",
    "print(pearson_corr)\n",
    "\n",
    "plt.scatter(filtered_sum_purchases,filtered_visits, color='blue', alpha=0.7)\n",
    "plt.xlabel(\"Сума покупок\")\n",
    "plt.ylabel(\"Кількість візитів\")\n",
    "plt.title(\"Діаграма розсіювання без викидів\")\n",
    "plt.grid(True)\n",
    "plt.show()\n"
   ]
  },
  {
   "cell_type": "code",
   "execution_count": null,
   "metadata": {},
   "outputs": [],
   "source": []
  }
 ],
 "metadata": {
  "colab": {
   "provenance": []
  },
  "kernelspec": {
   "display_name": "Python [conda env:base] *",
   "language": "python",
   "name": "conda-base-py"
  },
  "language_info": {
   "codemirror_mode": {
    "name": "ipython",
    "version": 3
   },
   "file_extension": ".py",
   "mimetype": "text/x-python",
   "name": "python",
   "nbconvert_exporter": "python",
   "pygments_lexer": "ipython3",
   "version": "3.12.7"
  }
 },
 "nbformat": 4,
 "nbformat_minor": 4
}
